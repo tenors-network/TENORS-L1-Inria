{
 "cells": [
  {
   "cell_type": "markdown",
   "metadata": {},
   "source": [
    "# Duality"
   ]
  },
  {
   "cell_type": "markdown",
   "metadata": {},
   "source": [
    "We describe the relations between tensors, linear functionals, moment sequences and duality in action on effective examples."
   ]
  },
  {
   "cell_type": "code",
   "execution_count": 1,
   "metadata": {},
   "outputs": [
    {
     "data": {
      "text/latex": [
       "$$ -2.0x2^{3} + 6.0x1x2^{2} - 6.0x1^{2}x2 + 2.0x1^{3} + 6.0x0x2^{2} - 12.0x0x1x2 + 6.0x0x1^{2} - 6.0x0^{2}x2 + 6.0x0^{2}x1 + 3.0x0^{3} $$"
      ],
      "text/plain": [
       "-2.0x2³ + 6.0x1x2² - 6.0x1²x2 + 2.0x1³ + 6.0x0x2² - 12.0x0x1x2 + 6.0x0x1² - 6.0x0²x2 + 6.0x0²x1 + 3.0x0³"
      ]
     },
     "execution_count": 1,
     "metadata": {},
     "output_type": "execute_result"
    }
   ],
   "source": [
    "using DynamicPolynomials, MultivariateSeries\n",
    "X = @polyvar x0 x1 x2\n",
    "d = 3\n",
    "F = x0^d + 2.0* (x0+x1-x2)^d"
   ]
  },
  {
   "cell_type": "markdown",
   "metadata": {},
   "source": [
    "We compute the linear functional $F^* \\in (\\mathcal{S}_{3,d})^{*}$ by apolarity:"
   ]
  },
  {
   "cell_type": "code",
   "execution_count": 2,
   "metadata": {},
   "outputs": [
    {
     "data": {
      "text/plain": [
       "-2.0dx2^3 + 2.0dx1*dx2^2 - 2.0dx1^2dx2 + 2.0dx1^3 + 2.0dx0*dx2^2 - 2.0dx0*dx1*dx2 + 2.0dx0*dx1^2 - 2.0dx0^2dx2 + 2.0dx0^2dx1 + 3.0dx0^3"
      ]
     },
     "execution_count": 2,
     "metadata": {},
     "output_type": "execute_result"
    }
   ],
   "source": [
    "Fstar = dual(F,d)"
   ]
  },
  {
   "cell_type": "markdown",
   "metadata": {},
   "source": [
    "The variables of the dual basis of the monomials basis are denoted $dx_i$. \n",
    "\n",
    "We compute now the **affine** polynomial obtained by the substitution $x_0 \\Rightarrow 1$:"
   ]
  },
  {
   "cell_type": "code",
   "execution_count": 3,
   "metadata": {},
   "outputs": [
    {
     "data": {
      "text/latex": [
       "$$ 3.0 - 6.0x2 + 6.0x1 + 6.0x2^{2} - 12.0x1x2 + 6.0x1^{2} - 2.0x2^{3} + 6.0x1x2^{2} - 6.0x1^{2}x2 + 2.0x1^{3} $$"
      ],
      "text/plain": [
       "3.0 - 6.0x2 + 6.0x1 + 6.0x2² - 12.0x1x2 + 6.0x1² - 2.0x2³ + 6.0x1x2² - 6.0x1²x2 + 2.0x1³"
      ]
     },
     "execution_count": 3,
     "metadata": {},
     "output_type": "execute_result"
    }
   ],
   "source": [
    "f = subs(F,x0=>1)"
   ]
  },
  {
   "cell_type": "markdown",
   "metadata": {},
   "source": [
    "Its dual $s = \\check{f}\\in (\\mathcal{R}_{n,d})^{*}$ is:"
   ]
  },
  {
   "cell_type": "code",
   "execution_count": 4,
   "metadata": {},
   "outputs": [
    {
     "data": {
      "text/plain": [
       "3.0 - 2.0dx2 + 2.0dx1 + 2.0dx2^2 - 2.0dx1*dx2 + 2.0dx1^2 - 2.0dx2^3 + 2.0dx1*dx2^2 - 2.0dx1^2dx2 + 2.0dx1^3"
      ]
     },
     "execution_count": 4,
     "metadata": {},
     "output_type": "execute_result"
    }
   ],
   "source": [
    "s = dual(f,d)"
   ]
  },
  {
   "cell_type": "markdown",
   "metadata": {},
   "source": [
    "We apply the linear functional $s$ on $x_1$:"
   ]
  },
  {
   "cell_type": "code",
   "execution_count": 5,
   "metadata": {},
   "outputs": [
    {
     "data": {
      "text/plain": [
       "2.0"
      ]
     },
     "execution_count": 5,
     "metadata": {},
     "output_type": "execute_result"
    }
   ],
   "source": [
    "dot(s,x1)"
   ]
  },
  {
   "cell_type": "markdown",
   "metadata": {},
   "source": [
    "We can notice that it coincides with $\\langle \\mathbf{e}_{0,0} + 2\\, \\mathbf{e}_{1,-1}| x_1\\rangle$ where $\\mathbf{e}_{a,b}$ is the evaluation at the point $(a,b)$.\n",
    "\n",
    "\n",
    "We compute $x_2\\star s$, which coincides with $(- 2\\, \\mathbf{e}_{1,-1})^{[2]}$ (i.e. $- 2\\, \\mathbf{e}_{1,-1}$ truncated in degree $\\le 2$)"
   ]
  },
  {
   "cell_type": "code",
   "execution_count": 6,
   "metadata": {},
   "outputs": [
    {
     "data": {
      "text/plain": [
       "-2.0 + 2.0dx2 - 2.0dx1 - 2.0dx2^2 + 2.0dx1*dx2 - 2.0dx1^2"
      ]
     },
     "execution_count": 6,
     "metadata": {},
     "output_type": "execute_result"
    }
   ],
   "source": [
    "s2 = x2*s"
   ]
  },
  {
   "cell_type": "markdown",
   "metadata": {},
   "source": [
    "as we can check, when applying the linear functional $x_2\\star s$ on $x_1^2+x_2^2$:"
   ]
  },
  {
   "cell_type": "code",
   "execution_count": 7,
   "metadata": {},
   "outputs": [
    {
     "data": {
      "text/plain": [
       "-4.0"
      ]
     },
     "execution_count": 7,
     "metadata": {},
     "output_type": "execute_result"
    }
   ],
   "source": [
    "dot(s2, x1^2+x2^2)"
   ]
  }
 ],
 "metadata": {
  "@webio": {
   "lastCommId": null,
   "lastKernelId": null
  },
  "kernelspec": {
   "display_name": "Julia 1.9.3",
   "language": "julia",
   "name": "julia-1.9"
  },
  "language_info": {
   "file_extension": ".jl",
   "mimetype": "application/julia",
   "name": "julia",
   "version": "1.9.3"
  }
 },
 "nbformat": 4,
 "nbformat_minor": 4
}
