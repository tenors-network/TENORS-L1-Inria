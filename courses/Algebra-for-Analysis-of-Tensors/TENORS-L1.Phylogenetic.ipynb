{
 "cells": [
  {
   "cell_type": "markdown",
   "metadata": {},
   "source": [
    "# Phylogenetic trees"
   ]
  },
  {
   "cell_type": "markdown",
   "metadata": {},
   "source": [
    "We describe how the decomposition method works on a trilinear tensor of $\\mathbb{R}^4 \\otimes \\mathbb{R}^4 \\otimes \\mathbb{R}^4$ of rank $4$:\n",
    "\n",
    "## Problem\n",
    "We are given a tensor $T$ of the form \n",
    "$$\n",
    "T = \\sum_{i=1}^{4} \\omega_i A[:,i] \\otimes B[:,i] \\otimes C[:,i]\n",
    "$$\n",
    "where $A,B,C \\in \\mathbb{R}^{4 \\times 4}$ are Markow matrices and $\\omega=(\\omega_1, \\ldots, \\omega_4)\\in (\\mathbb{R}_+)^{4}$ are positive weights.\n",
    "\n",
    "\n",
    "**How to recover the weights $\\omega$ and the factors $A,B,C$ from the coefficients of $T$.**"
   ]
  },
  {
   "cell_type": "code",
   "execution_count": 1,
   "metadata": {},
   "outputs": [],
   "source": [
    "using TensorDec, DynamicPolynomials, LinearAlgebra\n",
    "\n",
    "# scale the columns of A, B, C and the weights w so that the sum of the colmuns is 1\n",
    "normalize_markov! = function(w,A,B,C) \n",
    "    for i in 1:size(A,2) \n",
    "        l = sum(A[j,i] for j in 1:size(A,1) ) \n",
    "        A[:,i] /= l\n",
    "        w[i] *= l\n",
    "    end\n",
    "    for i in 1:size(B,2) \n",
    "        l = sum(B[j,i] for j in 1:size(B,1) ) \n",
    "        B[:,i] /=l\n",
    "        w[i] *= l\n",
    "    end\n",
    "    for i in 1:size(C,2) \n",
    "        l = sum(C[j,i] for j in 1:size(B,1) ) \n",
    "        C[:,i] /=l\n",
    "        w[i] *= l\n",
    "    end\n",
    "    w, A,B,C\n",
    "end;\n",
    "# scale the columns of A so that the first row is [1, ..., 1]\n",
    "normalize_affine = function(A0::AbstractMatrix) A = Matrix(A0); for i in 1:size(A,2)  A[:,i] /= A[1,i] end; A end;"
   ]
  },
  {
   "cell_type": "code",
   "execution_count": 2,
   "metadata": {},
   "outputs": [],
   "source": [
    "A = rand(4,4); B = rand(4,4); C = rand(4,4); w = rand(4);\n",
    "normalize_markov!(w,A,B,C);"
   ]
  },
  {
   "cell_type": "markdown",
   "metadata": {},
   "source": [
    "We verify that the columns sum to `1.`:"
   ]
  },
  {
   "cell_type": "code",
   "execution_count": 3,
   "metadata": {},
   "outputs": [
    {
     "data": {
      "text/plain": [
       "([1.0 0.9999999999999999 1.0 0.9999999999999999], [1.0 1.0 1.0 0.9999999999999999], [1.0 1.0 0.9999999999999998 1.0])"
      ]
     },
     "execution_count": 3,
     "metadata": {},
     "output_type": "execute_result"
    }
   ],
   "source": [
    "fill(1.,4)'*A, fill(1.,4)'*B, fill(1.,4)'*C"
   ]
  },
  {
   "cell_type": "code",
   "execution_count": 4,
   "metadata": {},
   "outputs": [],
   "source": [
    "#w = fill(1.,4); A=[1 1 1 1; 0 1. 0 0; 0 0 2. 0; 0 0 0 3.]; B= A; C=A"
   ]
  },
  {
   "cell_type": "code",
   "execution_count": 5,
   "metadata": {},
   "outputs": [
    {
     "data": {
      "text/plain": [
       "4×4×4 Array{Float64, 3}:\n",
       "[:, :, 1] =\n",
       " 0.63856   0.498562  0.609002  0.492611\n",
       " 0.659005  0.576221  0.588409  0.480191\n",
       " 0.331819  0.218192  0.31365   0.291366\n",
       " 0.217415  0.142356  0.211895  0.192002\n",
       "\n",
       "[:, :, 2] =\n",
       " 0.459046  0.304443  0.516376  0.307711\n",
       " 0.31125   0.259229  0.270975  0.217506\n",
       " 0.323017  0.194411  0.324703  0.241424\n",
       " 0.20303   0.116249  0.226682  0.158003\n",
       "\n",
       "[:, :, 3] =\n",
       " 0.147284   0.102441   0.122958   0.0951209\n",
       " 0.0896452  0.0735928  0.0659168  0.0550932\n",
       " 0.129666   0.0858343  0.0949834  0.0865085\n",
       " 0.0728417  0.04477    0.0620078  0.0559637\n",
       "\n",
       "[:, :, 4] =\n",
       " 0.320664  0.218559   0.39174   0.197574\n",
       " 0.240617  0.205661   0.21549   0.166941\n",
       " 0.191538  0.117397   0.215483  0.130113\n",
       " 0.124318  0.0727524  0.155088  0.0859419"
      ]
     },
     "execution_count": 5,
     "metadata": {},
     "output_type": "execute_result"
    }
   ],
   "source": [
    "T = tensor(w,A,B,C)"
   ]
  },
  {
   "cell_type": "markdown",
   "metadata": {},
   "source": [
    "The corresponding polynomial is:"
   ]
  },
  {
   "cell_type": "code",
   "execution_count": 6,
   "metadata": {},
   "outputs": [
    {
     "data": {
      "text/latex": [
       "$$ 0.0859418985158878x3y3z3 + 0.05596366474953316x3y3z2 + 0.1580025087257289x3y3z1 + 0.19200166860542914x3y3z0 + 0.15508777176200633x3y2z3 + 0.062007785735641446x3y2z2 + 0.226681759454738x3y2z1 + 0.21189505440504092x3y2z0 + 0.07275241058971704x3y1z3 + 0.04477003313863812x3y1z2 + 0.11624937787793596x3y1z1 + 0.14235563729401707x3y1z0 + 0.12431821065686982x3y0z3 + 0.07284167351701111x3y0z2 + 0.2030304440318155x3y0z1 + 0.21741506073333636x3y0z0 + 0.1301133623512499x2y3z3 + 0.08650854000696753x2y3z2 + 0.24142382069130386x2y3z1 + 0.2913663638090841x2y3z0 + 0.21548273047272626x2y2z3 + 0.09498339161454605x2y2z2 + 0.3247027683869597x2y2z1 + 0.31365015226504855x2y2z0 + 0.1173969630002421x2y1z3 + 0.08583432329201908x2y1z2 + 0.19441116803587513x2y1z1 + 0.21819242797364746x2y1z0 + 0.19153836644250666x2y0z3 + 0.12966581933685403x2y0z2 + 0.32301710108580384x2y0z1 + 0.33181877113093455x2y0z0 + 0.16694114767271573x1y3z3 + 0.0550931886254093x1y3z2 + 0.21750590977692524x1y3z1 + 0.4801909253352575x1y3z0 + 0.21549001236375911x1y2z3 + 0.06591678796654671x1y2z2 + 0.2709751197212557x1y2z1 + 0.5884094825259336x1y2z0 + 0.20566143722905522x1y1z3 + 0.07359275325232877x1y1z2 + 0.2592287128747331x1y1z1 + 0.5762206787817631x1y1z0 + 0.24061709816173732x1y0z3 + 0.08964515146480427x1y0z2 + 0.31124957523238445x1y0z1 + 0.659005379372757x1y0z0 + 0.1975740818873942x0y3z3 + 0.09512085816040344x0y3z2 + 0.3077113565867393x0y3z1 + 0.4926106468361194x0y3z0 + 0.3917397032996055x0y2z3 + 0.12295754987014207x0y2z2 + 0.5163758414018579x0y2z1 + 0.6090016646078479x0y2z0 + 0.21855864235810923x0y1z3 + 0.10244104020432329x0y1z2 + 0.3044431753108058x0y1z1 + 0.4985618966391801x0y1z0 + 0.3206635603198846x0y0z3 + 0.14728392477002633x0y0z2 + 0.4590464696888201x0y0z1 + 0.6385596059208755x0y0z0 $$"
      ],
      "text/plain": [
       "0.0859418985158878x3y3z3 + 0.05596366474953316x3y3z2 + 0.1580025087257289x3y3z1 + 0.19200166860542914x3y3z0 + 0.15508777176200633x3y2z3 + 0.062007785735641446x3y2z2 + 0.226681759454738x3y2z1 + 0.21189505440504092x3y2z0 + 0.07275241058971704x3y1z3 + 0.04477003313863812x3y1z2 + 0.11624937787793596x3y1z1 + 0.14235563729401707x3y1z0 + 0.12431821065686982x3y0z3 + 0.07284167351701111x3y0z2 + 0.2030304440318155x3y0z1 + 0.21741506073333636x3y0z0 + 0.1301133623512499x2y3z3 + 0.08650854000696753x2y3z2 + 0.24142382069130386x2y3z1 + 0.2913663638090841x2y3z0 + 0.21548273047272626x2y2z3 + 0.09498339161454605x2y2z2 + 0.3247027683869597x2y2z1 + 0.31365015226504855x2y2z0 + 0.1173969630002421x2y1z3 + 0.08583432329201908x2y1z2 + 0.19441116803587513x2y1z1 + 0.21819242797364746x2y1z0 + 0.19153836644250666x2y0z3 + 0.12966581933685403x2y0z2 + 0.32301710108580384x2y0z1 + 0.33181877113093455x2y0z0 + 0.16694114767271573x1y3z3 + 0.0550931886254093x1y3z2 + 0.21750590977692524x1y3z1 + 0.4801909253352575x1y3z0 + 0.21549001236375911x1y2z3 + 0.06591678796654671x1y2z2 + 0.2709751197212557x1y2z1 + 0.5884094825259336x1y2z0 + 0.20566143722905522x1y1z3 + 0.07359275325232877x1y1z2 + 0.2592287128747331x1y1z1 + 0.5762206787817631x1y1z0 + 0.24061709816173732x1y0z3 + 0.08964515146480427x1y0z2 + 0.31124957523238445x1y0z1 + 0.659005379372757x1y0z0 + 0.1975740818873942x0y3z3 + 0.09512085816040344x0y3z2 + 0.3077113565867393x0y3z1 + 0.4926106468361194x0y3z0 + 0.3917397032996055x0y2z3 + 0.12295754987014207x0y2z2 + 0.5163758414018579x0y2z1 + 0.6090016646078479x0y2z0 + 0.21855864235810923x0y1z3 + 0.10244104020432329x0y1z2 + 0.3044431753108058x0y1z1 + 0.4985618966391801x0y1z0 + 0.3206635603198846x0y0z3 + 0.14728392477002633x0y0z2 + 0.4590464696888201x0y0z1 + 0.6385596059208755x0y0z0"
      ]
     },
     "execution_count": 6,
     "metadata": {},
     "output_type": "execute_result"
    }
   ],
   "source": [
    "X = @polyvar x0 x1 x2 x3; Y = @polyvar y0 y1 y2 y3; Z = @polyvar z0 z1 z2 z3;\n",
    "F= sum(T[i,j,k]*X[i]*Y[j]*Z[k] for i in 1:4 for j=1:4 for k=1:4)"
   ]
  },
  {
   "cell_type": "code",
   "execution_count": 7,
   "metadata": {},
   "outputs": [],
   "source": [
    "H = [T[:,:,i] for i in 1:4];"
   ]
  },
  {
   "cell_type": "markdown",
   "metadata": {},
   "source": [
    "## Matrices from the tensor\n",
    "The flattening or Hankel matrix of the tensor indexed by monomials $A=(x_i)_{0\\le i\\le 3}$, $A'=(y_j\\, z_k)_{0 \\le j,k\\le 3}$ is: "
   ]
  },
  {
   "cell_type": "code",
   "execution_count": 8,
   "metadata": {},
   "outputs": [
    {
     "data": {
      "text/plain": [
       "4×16 Matrix{Float64}:\n",
       " 0.63856   0.498562  0.609002  0.492611  …  0.218559   0.39174   0.197574\n",
       " 0.659005  0.576221  0.588409  0.480191     0.205661   0.21549   0.166941\n",
       " 0.331819  0.218192  0.31365   0.291366     0.117397   0.215483  0.130113\n",
       " 0.217415  0.142356  0.211895  0.192002     0.0727524  0.155088  0.0859419"
      ]
     },
     "execution_count": 8,
     "metadata": {},
     "output_type": "execute_result"
    }
   ],
   "source": [
    "hcat(H...)"
   ]
  },
  {
   "cell_type": "markdown",
   "metadata": {},
   "source": [
    "By scaling the factors and the weights of the decomposition, we assume that the factors $U,V,W$ have their first coordinates equal to $1$. We set $x_0=1$, $y_0=1$, $z_0=1$ and work on an affine chart of $\\mathbb{P}^3\\times \\mathbb{P}^3\\times\\mathbb{P}^3$.\n",
    "\n",
    "A basis of $\\mathcal{A}$ is $B=\\{1, y_1, y_2,y_3\\}$. The operators $M_i$ of multiplication by ${z_i}$ in the basis $B$ of $\\mathcal{A}$ are:"
   ]
  },
  {
   "cell_type": "code",
   "execution_count": 9,
   "metadata": {},
   "outputs": [],
   "source": [
    "M = [inv(H[1])*H[i] for i in 2:4];"
   ]
  },
  {
   "cell_type": "markdown",
   "metadata": {},
   "source": [
    "## Joint diagonalisation\n",
    "\n",
    "We take a random combination $M_{rnd}$ of $M_i$ and compute its eigenvectors:"
   ]
  },
  {
   "cell_type": "code",
   "execution_count": 10,
   "metadata": {},
   "outputs": [],
   "source": [
    "Mrnd = sum(M[i]*rand() for i in 1:3);"
   ]
  },
  {
   "cell_type": "code",
   "execution_count": 11,
   "metadata": {},
   "outputs": [
    {
     "data": {
      "text/plain": [
       "4×4 Matrix{Float64}:\n",
       " -0.677549   0.671611  -0.399447   0.818269\n",
       "  0.69611   -0.69861    0.510161  -0.373124\n",
       "  0.161483  -0.178923  -0.515211  -0.256734\n",
       "  0.174016   0.169907   0.561013  -0.353981"
      ]
     },
     "execution_count": 11,
     "metadata": {},
     "output_type": "execute_result"
    }
   ],
   "source": [
    "E = eigen(Mrnd).vectors"
   ]
  },
  {
   "cell_type": "markdown",
   "metadata": {},
   "source": [
    "We verify that the operators of multiplication $M_i$ are diagonal (up to numerical error) in the basis of eigenvectors of $M_{rnd}$:"
   ]
  },
  {
   "cell_type": "code",
   "execution_count": 12,
   "metadata": {},
   "outputs": [],
   "source": [
    "D = [inv(E)*M[i]*E  for i in 1:3];"
   ]
  },
  {
   "cell_type": "code",
   "execution_count": 13,
   "metadata": {},
   "outputs": [
    {
     "data": {
      "text/plain": [
       "4×4 Matrix{Float64}:\n",
       "  0.384224      1.22402e-14  -4.45199e-14  -1.49325e-14\n",
       " -7.77156e-16   1.00375      -3.35287e-14  -1.22125e-14\n",
       " -6.73073e-15   3.69843e-15   3.18572       7.68829e-15\n",
       "  9.4022e-15   -8.44463e-15   1.27676e-15   3.56338"
      ]
     },
     "execution_count": 13,
     "metadata": {},
     "output_type": "execute_result"
    }
   ],
   "source": [
    "D[1]"
   ]
  },
  {
   "cell_type": "code",
   "execution_count": 14,
   "metadata": {},
   "outputs": [
    {
     "data": {
      "text/plain": [
       "4×4 Matrix{Float64}:\n",
       "  0.0804996    7.34135e-15  -3.58047e-15  9.50628e-15\n",
       " -6.43929e-15  0.389043      2.88658e-15  5.21805e-15\n",
       "  3.08781e-16  9.09862e-16   0.434225     2.05391e-15\n",
       " -6.7793e-15   5.46785e-15  -1.44051e-14  2.95996"
      ]
     },
     "execution_count": 14,
     "metadata": {},
     "output_type": "execute_result"
    }
   ],
   "source": [
    "D[2]"
   ]
  },
  {
   "cell_type": "code",
   "execution_count": 15,
   "metadata": {},
   "outputs": [
    {
     "data": {
      "text/plain": [
       "4×4 Matrix{Float64}:\n",
       "  0.330232      1.78468e-14  -1.29896e-14   6.10623e-15\n",
       " -8.60423e-15   0.472936     -1.9762e-14    4.21885e-15\n",
       "  4.4964e-15   -6.50868e-15   2.82149      -6.18949e-15\n",
       "  6.83481e-15  -3.38271e-15   3.11001e-14   1.79256"
      ]
     },
     "execution_count": 15,
     "metadata": {},
     "output_type": "execute_result"
    }
   ],
   "source": [
    "D[3]"
   ]
  },
  {
   "cell_type": "markdown",
   "metadata": {},
   "source": [
    "## The factors from the eigenvectors\n",
    "\n",
    "The corresponding terms on the diagonal give the factor $W$ (with the first coordinate equal to $1$):"
   ]
  },
  {
   "cell_type": "code",
   "execution_count": 16,
   "metadata": {},
   "outputs": [
    {
     "data": {
      "text/plain": [
       "4×4 Matrix{Float64}:\n",
       " 1.0        1.0       1.0       1.0\n",
       " 0.384224   1.00375   3.18572   3.56338\n",
       " 0.0804996  0.389043  0.434225  2.95996\n",
       " 0.330232   0.472936  2.82149   1.79256"
      ]
     },
     "execution_count": 16,
     "metadata": {},
     "output_type": "execute_result"
    }
   ],
   "source": [
    "W = fill(1.,4,4); for i in 1:3 for j in 1:4 W[i+1,j] = D[i][j,j] end end; W"
   ]
  },
  {
   "cell_type": "markdown",
   "metadata": {},
   "source": [
    "The eigenvectors `E` are (up to a scalar) the interpolation polynomials at the points in the basis $B$. \n",
    "Therefore, `inv(E)'` is (up to a scaling of the columns) the **Vandermonde** matrix of the points in $B=\\{1, y_1, y_2, y_3\\}$:\n",
    "\n",
    "$$\n",
    "V = \\left( \n",
    "\\begin{array}{cccc}\n",
    "1 & 1 & 1 & 1 \\\\\n",
    "v_{1,1} & v_{2,1} & v_{3,1} & v_{4,1} \\\\\n",
    "v_{1,2} & v_{2,2} & v_{3,2} & v_{4,2} \\\\\n",
    "v_{1,3} & v_{2,3} & v_{3,3} & v_{4,3} \\\\\n",
    "\\end{array}\n",
    "\\right)\n",
    "$$\n",
    "This gives the factor `V`"
   ]
  },
  {
   "cell_type": "code",
   "execution_count": 17,
   "metadata": {},
   "outputs": [
    {
     "data": {
      "text/plain": [
       "4×4 adjoint(::Matrix{Float64}) with eltype Float64:\n",
       " 4.54037  2.71845  -0.717092  2.40036\n",
       " 4.10939  1.28546  -0.264018  2.21873\n",
       " 4.05693  2.53245  -1.75912   0.421948\n",
       " 3.2216   3.09232  -0.103501  0.0789611"
      ]
     },
     "execution_count": 17,
     "metadata": {},
     "output_type": "execute_result"
    }
   ],
   "source": [
    "V = inv(E)'"
   ]
  },
  {
   "cell_type": "markdown",
   "metadata": {},
   "source": [
    "We remove the scaling factors, by normalizing the columns so that the first coordinate of the points is $1$:"
   ]
  },
  {
   "cell_type": "code",
   "execution_count": 18,
   "metadata": {},
   "outputs": [
    {
     "data": {
      "text/plain": [
       "4×4 Matrix{Float64}:\n",
       " 1.0       1.0       1.0       1.0\n",
       " 0.905077  0.472864  0.368179  0.924333\n",
       " 0.893524  0.93158   2.45313   0.175785\n",
       " 0.709546  1.13753   0.144335  0.0328955"
      ]
     },
     "execution_count": 18,
     "metadata": {},
     "output_type": "execute_result"
    }
   ],
   "source": [
    "V = normalize_affine(V)"
   ]
  },
  {
   "cell_type": "code",
   "execution_count": 19,
   "metadata": {},
   "outputs": [
    {
     "data": {
      "text/plain": [
       "4×4 Matrix{Float64}:\n",
       " 1.0       1.0       1.0        1.0\n",
       " 1.35261   0.29567   0.0795717  0.555197\n",
       " 0.288573  1.15391   0.507942   1.11787\n",
       " 0.197175  0.746456  0.411169   0.420357"
      ]
     },
     "execution_count": 19,
     "metadata": {},
     "output_type": "execute_result"
    }
   ],
   "source": [
    "U = normalize_affine(H[1]*E)"
   ]
  },
  {
   "cell_type": "markdown",
   "metadata": {},
   "source": [
    "## The weights from the factors\n",
    "\n",
    "We solve a Vandermonde system \n",
    "$$\n",
    "\\left( \n",
    "\\begin{array}{cccc}\n",
    "\\vdots & &  &\\vdots \\\\\n",
    "u_{1,i}v_{1,j}w_{1,k} & & & u_{4,i}v_{4,j} w_{4,k} \\\\\n",
    "\\vdots & & & \\vdots \\\\\n",
    "\\end{array}\n",
    "\\right) \\, \n",
    "\\left( \n",
    "\\begin{array}{c}\n",
    "\\omega_1\\\\ \\vdots \\\\ \\omega_4 \\end{array}\\right)= \n",
    "\\left( \n",
    "\\begin{array}{c}\n",
    "\\vdots \\\\\n",
    "T[i,j,k]\\\\\n",
    "\\vdots\n",
    "\\end{array}\n",
    "\\right)\n",
    "$$\n",
    "selecting only the rows where $k=1$, s.t. $w_{l,1}=1$ just to simplify the matrix constructions."
   ]
  },
  {
   "cell_type": "code",
   "execution_count": 20,
   "metadata": {},
   "outputs": [
    {
     "data": {
      "text/plain": [
       "4-element Vector{Float64}:\n",
       " 0.4470649786874177\n",
       " 0.15032225861369847\n",
       " 0.027340579174909594\n",
       " 0.013831789444849434"
      ]
     },
     "execution_count": 20,
     "metadata": {},
     "output_type": "execute_result"
    }
   ],
   "source": [
    "Vdm = hcat([[U[i,k]*V[j,k] for i in 1:4 for j in 1:4] for k in 1:4]...)\n",
    "theta = [H[1][i,j] for i in 1:4 for j in 1:4];\n",
    "\n",
    "w1 = Vdm\\theta"
   ]
  },
  {
   "cell_type": "code",
   "execution_count": 21,
   "metadata": {},
   "outputs": [
    {
     "data": {
      "text/plain": [
       "5.750349421984536e-14"
      ]
     },
     "execution_count": 21,
     "metadata": {},
     "output_type": "execute_result"
    }
   ],
   "source": [
    "normalize_markov!(w1,U,V,W); T1 = tensor(w1,U,V,W); norm(T-T1)"
   ]
  },
  {
   "cell_type": "code",
   "execution_count": null,
   "metadata": {},
   "outputs": [],
   "source": []
  }
 ],
 "metadata": {
  "@webio": {
   "lastCommId": null,
   "lastKernelId": null
  },
  "kernelspec": {
   "display_name": "Julia 1.9.3",
   "language": "julia",
   "name": "julia-1.9"
  },
  "language_info": {
   "file_extension": ".jl",
   "mimetype": "application/julia",
   "name": "julia",
   "version": "1.9.3"
  }
 },
 "nbformat": 4,
 "nbformat_minor": 4
}
